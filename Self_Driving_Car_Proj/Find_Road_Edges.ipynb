{
 "cells": [
  {
   "cell_type": "code",
   "execution_count": 1,
   "metadata": {},
   "outputs": [],
   "source": [
    "######################################################\n",
    "# Sample elements to find left&right edges on the road\n",
    "# Uses Hough transformation to find edge lines \n",
    "# Test video with road excluded\n",
    "######################################################"
   ]
  },
  {
   "cell_type": "code",
   "execution_count": 7,
   "metadata": {},
   "outputs": [],
   "source": [
    "import cv2\n",
    "import matplotlib.pyplot as plt\n",
    "import numpy as np"
   ]
  },
  {
   "cell_type": "code",
   "execution_count": 8,
   "metadata": {},
   "outputs": [],
   "source": [
    "SOURCE_PATH = './test_images/test.mp4'\n",
    "OUTPUT_FOLDER = './output/'"
   ]
  },
  {
   "cell_type": "code",
   "execution_count": 9,
   "metadata": {},
   "outputs": [],
   "source": [
    "video_capture = cv2.VideoCapture(SOURCE_PATH)\n",
    "\n",
    "WIDTH = int(video_capture.get(3))\n",
    "HEIGHT = int(video_capture.get(4))"
   ]
  },
  {
   "cell_type": "code",
   "execution_count": 10,
   "metadata": {},
   "outputs": [],
   "source": [
    "def make_coordinates(img, line_parameters):\n",
    "    \n",
    "    \"\"\"Calculate line coordinates from average line parameters\"\"\"\n",
    "    \n",
    "    slope, intercept = line_parameters\n",
    "    y1 = img.shape[0]\n",
    "    y2 = int(y1*(3/5))\n",
    "    # y = mx + b; x = (y-b) / m\n",
    "    x1 = int((y1 - intercept)/slope)\n",
    "    x2 = int((y2 - intercept)/slope)\n",
    "    return np.array([x1, y1, x2, y2])\n",
    "\n",
    "\n",
    "def get_edges(img, low=50, high=150, kernel=(5, 5)):\n",
    "    \n",
    "    \"\"\"Process canny image\"\"\"\n",
    "    \n",
    "    gray = cv2.cvtColor(img, cv2.COLOR_RGB2GRAY)\n",
    "    blurred = cv2.GaussianBlur(gray, kernel, 1)\n",
    "    edged = cv2.Canny(blurred, low, high)\n",
    "    \n",
    "    return edged\n",
    "\n",
    "\n",
    "def get_roi(img, height=HEIGHT):\n",
    "    \n",
    "    \"\"\"Put mask with region of interest on the image \"\"\"\n",
    "    \n",
    "    polygons = np.array([\n",
    "        [(200, height), (1100, height), (550,250)]\n",
    "    ])\n",
    "    mask = np.zeros_like(img)\n",
    "    cv2.fillPoly(mask, polygons, 255)\n",
    "    masked_img = cv2.bitwise_and(img, mask)\n",
    "    return masked_img\n",
    "\n",
    "\n",
    "def show_lines(img, lines):\n",
    "    line_image = np.zeros_like(img)\n",
    "    if lines is not None:\n",
    "        for x1, y1, x2, y2 in lines:\n",
    "            cv2.line(line_image, (x1, y1), (x2, y2), (255, 0, 0), 4)\n",
    "    return line_image\n",
    "\n",
    "\n",
    "def avg_slope_intercept(img, lines):\n",
    "    \n",
    "    \"\"\"Calculate average line parameters from results of Hough transform\"\"\"\n",
    "    \n",
    "    left_fit = []\n",
    "    right_fit = []\n",
    "    for line in lines:\n",
    "        x1, y1, x2, y2 = line.reshape(4) # unpack the elements\n",
    "        parameters = np.polyfit((x1, x2), (y1, y2), 1)\n",
    "        # print(parameters)\n",
    "        slope = parameters[0]\n",
    "        intercept = parameters[1]\n",
    "        if slope < 0:\n",
    "            left_fit.append((slope, intercept))\n",
    "        else:\n",
    "            right_fit.append((slope, intercept))\n",
    "        # print(f\"left {left_fit}\")\n",
    "        # print(f\"right {right_fit}\")\n",
    "    left_fit_avg = np.average(left_fit, axis=0)\n",
    "    right_fit_avg = np.average(right_fit, axis=0)\n",
    "    left_line = make_coordinates(img, left_fit_avg)\n",
    "    right_line = make_coordinates(img, right_fit_avg)\n",
    "    return np.array([left_line, right_line])\n"
   ]
  },
  {
   "cell_type": "code",
   "execution_count": 11,
   "metadata": {},
   "outputs": [],
   "source": [
    "while video_capture.isOpened():\n",
    "    success, frame = video_capture.read()\n",
    "    \n",
    "    canny = get_edges(frame, 50, 150)\n",
    "    masked = get_roi(canny)\n",
    "    # lines: 2d array in form [[x1, y1, x2, y2]]\n",
    "    lines = cv2.HoughLinesP(masked, 2, np.pi/180, 100, np.array([]), minLineLength=40, maxLineGap=5)\n",
    "    avg_lines = avg_slope_intercept(frame, lines)\n",
    "    line_image = show_lines(frame, avg_lines)\n",
    "    comb_img = cv2.addWeighted(frame, 0.8, line_image, 1, 1)\n",
    "    \n",
    "    cv2.imshow('Video', comb_img)\n",
    "    \n",
    "    k = cv2.waitKey(1) & 0xFF\n",
    "    \n",
    "    if k == ord('q'):\n",
    "        break\n",
    "    \n",
    "    elif k == ord('s'):\n",
    "        fp = OUTPUT_FOLDER + 'image.jpg'\n",
    "        cv2.imwrite(fp, comb_img)\n",
    "\n",
    "          \n",
    "video_capture.release()\n",
    "cv2.destroyAllWindows()\n",
    "    \n",
    "    "
   ]
  },
  {
   "cell_type": "code",
   "execution_count": null,
   "metadata": {},
   "outputs": [],
   "source": []
  }
 ],
 "metadata": {
  "kernelspec": {
   "display_name": "Python 3",
   "language": "python",
   "name": "python3"
  },
  "language_info": {
   "codemirror_mode": {
    "name": "ipython",
    "version": 3
   },
   "file_extension": ".py",
   "mimetype": "text/x-python",
   "name": "python",
   "nbconvert_exporter": "python",
   "pygments_lexer": "ipython3",
   "version": "3.7.6"
  }
 },
 "nbformat": 4,
 "nbformat_minor": 4
}
