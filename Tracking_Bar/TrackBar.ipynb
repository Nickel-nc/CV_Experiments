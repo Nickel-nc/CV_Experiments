{
 "cells": [
  {
   "cell_type": "markdown",
   "metadata": {},
   "source": [
    "### Opencv. Track bar. Background subtract"
   ]
  },
  {
   "cell_type": "code",
   "execution_count": 18,
   "metadata": {},
   "outputs": [
    {
     "name": "stdout",
     "output_type": "stream",
     "text": [
      "Saved new image # frame_2020-09-11 04-36-43.193561.jpg\n"
     ]
    }
   ],
   "source": [
    "import cv2\n",
    "import numpy as np\n",
    "from datetime import datetime\n",
    "\n",
    "capture = cv2.VideoCapture(0)\n",
    "# img = cv2.imread('data/1.png')\n",
    "\n",
    "TRACK_WINNAME = \"Track Bar\"\n",
    "\n",
    "def empty(a):\n",
    "    pass\n",
    "\n",
    "\n",
    "cv2.namedWindow(TRACK_WINNAME)\n",
    "cv2.resizeWindow(\"TrackBar\", 640, 240)\n",
    "\n",
    "cv2.createTrackbar(\"Hue Min\", TRACK_WINNAME, 0, 179, empty)\n",
    "cv2.createTrackbar(\"Hue Max\", TRACK_WINNAME, 179, 179, empty)\n",
    "cv2.createTrackbar(\"Sat Min\", TRACK_WINNAME, 0, 255, empty)\n",
    "cv2.createTrackbar(\"Sat Max\", TRACK_WINNAME, 169, 255, empty)\n",
    "cv2.createTrackbar(\"Val Min\", TRACK_WINNAME, 15, 255, empty)\n",
    "cv2.createTrackbar(\"Val Max\", TRACK_WINNAME, 255, 255, empty)\n",
    "\n",
    "\n",
    "while True:\n",
    "    \n",
    "    success, frame = capture.read()\n",
    "\n",
    "    imgHSV = cv2.cvtColor(frame, cv2.COLOR_BGR2HSV)\n",
    "    h_min = cv2.getTrackbarPos(\"Hue Min\", TRACK_WINNAME)\n",
    "    h_max = cv2.getTrackbarPos(\"Hue Max\", TRACK_WINNAME)\n",
    "    s_min = cv2.getTrackbarPos(\"Sat Min\", TRACK_WINNAME)\n",
    "    s_max = cv2.getTrackbarPos(\"Sat Max\", TRACK_WINNAME)\n",
    "    val_min = cv2.getTrackbarPos(\"Val Min\", TRACK_WINNAME)\n",
    "    val_max = cv2.getTrackbarPos(\"Val Max\", TRACK_WINNAME)\n",
    "    \n",
    "    # filter out \n",
    "    lower = np.array([h_min, s_min, val_min])\n",
    "    upper = np.array([h_max, s_max, val_max])\n",
    "    \n",
    "    mask = cv2.inRange(imgHSV, lower, upper)\n",
    "    res_img = cv2.bitwise_and(frame, frame, mask=mask)\n",
    "    \n",
    "    font = cv2.FONT_HERSHEY_DUPLEX\n",
    "    cv2.putText(res_img, 'H Min: ' + str(h_min), (1, 15), font, .4, (75, 200, 100), 1, cv2.FILLED)\n",
    "    cv2.putText(res_img, 'H Max: ' + str(h_max), (1, 30), font, .4, (75, 200, 100), 1, cv2.FILLED)\n",
    "    cv2.putText(res_img, 'Sat Min: ' + str(s_min), (1, 45), font, .4, (150, 200, 100), 1, cv2.FILLED)\n",
    "    cv2.putText(res_img, 'Sat Max: ' + str(s_max), (1, 60), font, .4, (150, 200, 100), 1, cv2.FILLED)\n",
    "    cv2.putText(res_img, 'Val Min: ' + str(val_min), (1, 75), font, .4, (75, 200, 150), 1, cv2.FILLED)\n",
    "    cv2.putText(res_img, 'Val Max: ' + str(val_max), (1, 90), font, .4, (75, 200, 150), 1, cv2.FILLED)\n",
    "\n",
    "    cv2.imshow(TRACK_WINNAME, res_img)\n",
    "    \n",
    "    k = cv2.waitKey(1) & 0xFF\n",
    "    \n",
    "    # Quit\n",
    "    if k == ord('q'):\n",
    "        break\n",
    "        \n",
    "    # Save\n",
    "    elif k == ord('s'):\n",
    "            fn_gen = f\"frame_{str(datetime.now()).replace(':','-')}.jpg\"\n",
    "            cv2.imwrite(f\"./data/{fn_gen}\", res_img)\n",
    "            print(f\"Saved new image # {fn_gen}\")\n",
    "    \n",
    "capture.release()\n",
    "cv2.destroyAllWindows()"
   ]
  },
  {
   "cell_type": "markdown",
   "metadata": {},
   "source": [
    "<img src='data/test.jpg' alt=\"test image\" width=400 height=100>"
   ]
  },
  {
   "cell_type": "code",
   "execution_count": null,
   "metadata": {},
   "outputs": [],
   "source": []
  }
 ],
 "metadata": {
  "kernelspec": {
   "display_name": "Python 3",
   "language": "python",
   "name": "python3"
  },
  "language_info": {
   "codemirror_mode": {
    "name": "ipython",
    "version": 3
   },
   "file_extension": ".py",
   "mimetype": "text/x-python",
   "name": "python",
   "nbconvert_exporter": "python",
   "pygments_lexer": "ipython3",
   "version": "3.7.6"
  }
 },
 "nbformat": 4,
 "nbformat_minor": 4
}
